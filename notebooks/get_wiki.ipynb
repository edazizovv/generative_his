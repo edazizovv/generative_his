{
 "cells": [
  {
   "cell_type": "code",
   "execution_count": 49,
   "id": "8092e982",
   "metadata": {},
   "outputs": [],
   "source": [
    "import wikipediaapi\n",
    "import datetime"
   ]
  },
  {
   "cell_type": "code",
   "execution_count": 50,
   "id": "f0c9ff1d",
   "metadata": {},
   "outputs": [],
   "source": [
    "wiki_wiki = wikipediaapi.Wikipedia('en')"
   ]
  },
  {
   "cell_type": "code",
   "execution_count": 51,
   "id": "72c7a4ee",
   "metadata": {},
   "outputs": [],
   "source": [
    "# date = 'February_29'\n",
    "\n",
    "now = datetime.datetime.now()\n",
    "date = '{0}_{1}'.format(now.strftime(\"%B\"),\n",
    "                        now.day)"
   ]
  },
  {
   "cell_type": "code",
   "execution_count": 52,
   "id": "bdd4a667",
   "metadata": {},
   "outputs": [],
   "source": [
    "page_py = wiki_wiki.page(date)"
   ]
  },
  {
   "cell_type": "code",
   "execution_count": 53,
   "id": "6776682f",
   "metadata": {},
   "outputs": [
    {
     "name": "stdout",
     "output_type": "stream",
     "text": [
      "Nice!\n"
     ]
    }
   ],
   "source": [
    "if page_py.exists():\n",
    "    print(\"Nice!\")"
   ]
  },
  {
   "cell_type": "code",
   "execution_count": 54,
   "id": "0a748f07",
   "metadata": {},
   "outputs": [
    {
     "data": {
      "text/plain": [
       "'October 16 is the 289th day of the year (290th in leap years) in the Gregorian calendar;  76 days remain until the end of the year.'"
      ]
     },
     "execution_count": 54,
     "metadata": {},
     "output_type": "execute_result"
    }
   ],
   "source": [
    "page_py.summary"
   ]
  },
  {
   "cell_type": "code",
   "execution_count": 55,
   "id": "88f49cf5",
   "metadata": {},
   "outputs": [
    {
     "data": {
      "text/plain": [
       "True"
      ]
     },
     "execution_count": 55,
     "metadata": {},
     "output_type": "execute_result"
    }
   ],
   "source": [
    "page_py.sections[0].title == 'Events'"
   ]
  },
  {
   "cell_type": "code",
   "execution_count": 56,
   "id": "e50fe10b",
   "metadata": {},
   "outputs": [
    {
     "data": {
      "text/plain": [
       "Section: Events (1):\n",
       "\n",
       "Subsections (3):\n",
       "Section: Pre-1600 (2):\n",
       "456 – Ricimer defeats Avitus at Piacenza and becomes master of the Western Roman Empire.\n",
       "690 – Empress Wu Zetian ascends to the throne of the Tang dynasty and proclaims herself ruler of the Chinese Empire.\n",
       "912 – Abd ar-Rahman III becomes the eighth Emir of Córdoba.\n",
       "955 – King Otto I defeats a Slavic revolt in what is now Mecklenburg-Vorpommern.\n",
       "1311 – The Council of Vienne convenes for the first time.\n",
       "1384 – Jadwiga is crowned King of Poland, although she is a woman.\n",
       "1590 – Prince Gesualdo of Venosa murders his wife and her lover.\n",
       "Subsections (0):\n",
       "\n",
       "Section: 1601–1900 (2):\n",
       "1736 – Mathematician William Whiston's predicted comet fails to strike the Earth.\n",
       "1780 – American Revolutionary War: The British-led Royalton raid is the last Native American raid on New England.\n",
       "1780 – The Great Hurricane of 1780 finishes after its sixth day, killing between 20,000 and 24,000 residents of the Lesser Antilles.\n",
       "1793 – French Revolution: Queen Marie Antoinette is executed.\n",
       "1793   – War of the First Coalition: French victory at the Battle of Wattignies forces Austria to raise the siege of Maubeuge.\n",
       "1805 – War of the Third Coalition: Napoleon surrounds the Austrian army at Ulm.\n",
       "1813 – The Sixth Coalition attacks Napoleon in the three-day Battle of Leipzig.\n",
       "1817 – Simón Bolívar sentences Manuel Piar to death for challenging the racial-caste in Venezuela.\n",
       "1834 – Much of the ancient structure of the Palace of Westminster in London burns to the ground.\n",
       "1836 – Great Trek: Afrikaner voortrekkers repulse a Matabele attack, but lose their livestock.\n",
       "1841 – Queen's University is founded in the Province of Canada.\n",
       "1843 – William Rowan Hamilton invents quaternions, a three-dimensional system of complex numbers.\n",
       "1846 – William T. G. Morton administers ether anesthesia during a surgical operation.\n",
       "1847 – The novel Jane Eyre is published in London.\n",
       "1859 – John Brown leads a raid on Harpers Ferry, Virginia.\n",
       "1869 – The Cardiff Giant, one of the most famous American hoaxes, is \"discovered\".\n",
       "1869   – Girton College, Cambridge is founded, becoming England's first residential college for women.\n",
       "1875 – Brigham Young University is founded in Provo, Utah.\n",
       "1882 – The Nickel Plate Railroad opens for business.\n",
       "Subsections (0):\n",
       "\n",
       "Section: 1901–present (2):\n",
       "1905 – The Partition of Bengal in India takes place.\n",
       "1909 – William Howard Taft and Porfirio Díaz hold the first summit between a U.S. and a Mexican president. They narrowly escape assassination.\n",
       "1916 – Margaret Sanger opens the first family planning clinic in the United States.\n",
       "1919 – Adolf Hitler delivers his first public address at a meeting of the German Workers' Party.\n",
       "1923 – The Walt Disney Company is founded.\n",
       "1934 – Chinese Communists begin the Long March to escape Nationalist encirclement.\n",
       "1939 – World War II: No. 603 Squadron RAF intercepts the first Luftwaffe raid on Britain.\n",
       "1940 – Holocaust in Poland: The Warsaw Ghetto is established.\n",
       "1943 – Holocaust in Italy: Raid of the Ghetto of Rome.\n",
       "1946 – Nuremberg trials: Ten defendants found guilty by the International Military Tribunal are executed by hanging.\n",
       "1947 – The Philippines takes over the administration of the Turtle Islands and the Mangsee Islands from the United Kingdom.\n",
       "1949 – The Greek Communist Party announces a \"temporary cease-fire\", thus ending the Greek Civil War.\n",
       "1951 – The first Prime Minister of Pakistan, Liaquat Ali Khan, is assassinated in Rawalpindi.\n",
       "1953 – Cuban revolutionary Fidel Castro delivers his \"History Will Absolve Me\" speech, and is sentenced to 15 years' imprisonment by the Fulgencio Batista government for leading an attack on the Moncada Barracks.\n",
       "1962 – Cuban Missile Crisis begins: U.S. President John F. Kennedy is informed of photos taken on October 14 by a U-2 showing nuclear missiles (the crisis will last for 13 days starting from this point).\n",
       "1964 – China detonates its first nuclear weapon.\n",
       "1964   – Leonid Brezhnev becomes leader of the Soviet Communist Party, while Alexei Kosygin becomes the head of government.\n",
       "1968 – Tommie Smith and John Carlos are ejected from the US Olympic team for participating in the Olympics Black Power salute.\n",
       "1968   – Kingston, Jamaica is rocked by the Rodney riots, inspired by the barring of Walter Rodney from the country.\n",
       "1968   – Yasunari Kawabata becomes the first Japanese person to be awarded the Nobel Prize in Literature.\n",
       "1970 – Canadian Prime Minister Pierre Trudeau invokes the War Measures Act during the October Crisis.\n",
       "1973 – Henry Kissinger and Lê Đức Thọ are awarded the Nobel Peace Prize.\n",
       "1975 – Indonesian troops kill the Balibo Five, a group of Australian journalists, in Portuguese Timor.\n",
       "1975   – Three-year-old Rahima Banu, from Bangladesh, is the last known case of naturally occurring smallpox.\n",
       "1975   – The Australian Coalition sparks a constitutional crisis when they vote to defer funding for the government's annual budget.\n",
       "1978 – Pope John Paul II becomes the first non-Italian pontiff since 1523.\n",
       "1984 – Desmond Tutu is awarded the Nobel Peace Prize.\n",
       "1985 – The Finnish dry cargo ship MS Hanna-Marjut, on its way from Mariehamn to Naantali, sank in hard sea on the open water of Kihti between the Kökar and Sottunga islands of Åland, leading to the drowning of four people.\n",
       "1991 – George Hennard runs amok in Killeen, Texas, killing 23 and wounding 20.\n",
       "1995 – The Million Man March takes place in Washington, D.C. About 837,000 attend.\n",
       "1995   – The Skye Bridge in Scotland is opened.\n",
       "1996 – Eighty-four football fans die and 180 are injured in a massive crush at a match in Guatemala City.\n",
       "1998 – Former Chilean dictator Augusto Pinochet is arrested in London on a murder extradition warrant.\n",
       "2002 – The Bibliotheca Alexandrina opens in Egypt, commemorating the ancient library of Alexandria.\n",
       "2013 – Lao Airlines Flight 301 crashes on approach to Pakse International Airport in Laos, killing 49 people.\n",
       "2017 – Storm Ophelia strikes the U.K. and Ireland causing major damage and power loss.\n",
       "Subsections (0):"
      ]
     },
     "execution_count": 56,
     "metadata": {},
     "output_type": "execute_result"
    }
   ],
   "source": [
    "page_py.sections[0]"
   ]
  },
  {
   "cell_type": "code",
   "execution_count": 42,
   "id": "641e7110",
   "metadata": {},
   "outputs": [
    {
     "data": {
      "text/plain": [
       "Section: Events (1):\n",
       "\n",
       "Subsections (3):\n",
       "Section: Pre-1600 (2):\n",
       "934 – Meng Zhixiang declares himself emperor and establishes Later Shu as a new state independent of Later Tang.\n",
       "1190 – Massacre of Jews at Clifford's Tower, York.\n",
       "1244 – Over 200 Cathars who refuse to recant are burnt to death after the Fall of Montségur.\n",
       "Subsections (0):\n",
       "\n",
       "Section: 1601–1900 (2):\n",
       "1621 – Samoset, a Mohegan, visits the settlers of Plymouth Colony and greets them, \"Welcome, Englishmen! My name is Samoset.\"\n",
       "1660 – The Long Parliament of England is dissolved so as to prepare for the new Convention Parliament.\n",
       "1792 – King Gustav III of Sweden is shot; he dies on March 29.\n",
       "1802 – The Army Corps of Engineers is established to found and operate the United States Military Academy at West Point.\n",
       "1815 – Prince Willem proclaims himself King of the United Kingdom of the Netherlands, the first constitutional monarch in the Netherlands.\n",
       "1872 – The Wanderers F.C. win the first FA Cup, the oldest football competition in the world, beating Royal Engineers A.F.C. 1–0 at The Oval in Kennington, London.\n",
       "1898 – In Melbourne, the representatives of five colonies adopt a constitution, which would become the basis of the Commonwealth of Australia.\n",
       "Subsections (0):\n",
       "\n",
       "Section: 1901–present (2):\n",
       "1916 – The 7th and 10th US cavalry regiments under John J. Pershing cross the US–Mexico border to join the hunt for Pancho Villa.\n",
       "1918 – Finnish Civil War: Battle of Länkipohja is infamous for its bloody aftermath as the Whites execute 70–100 capitulated Reds.\n",
       "1924 – In accordance with the Treaty of Rome, Fiume becomes annexed as part of Italy.\n",
       "1926 – History of Rocketry: Robert Goddard launches the first liquid-fueled rocket, at Auburn, Massachusetts.\n",
       "1935 – Adolf Hitler orders Germany to rearm herself in violation of the Treaty of Versailles. Conscription is reintroduced to form the Wehrmacht.\n",
       "1936 – Warmer-than-normal temperatures rapidly melt snow and ice on the upper Allegheny and Monongahela rivers, leading to a major flood in Pittsburgh.\n",
       "1939 – From Prague Castle, Hitler proclaims Bohemia and Moravia a German protectorate.\n",
       "1941 – Operation Appearance takes place to re-establish British Somaliland\n",
       "1945 – World War II: The Battle of Iwo Jima ends, but small pockets of Japanese resistance persist.\n",
       "1945   – Ninety percent of Würzburg, Germany is destroyed in only 20 minutes by British bombers, resulting in at least 4,000 deaths.\n",
       "1962 – Flying Tiger Line Flight 739 disappears in the western Pacific Ocean with all 107 aboard missing and presumed dead.\n",
       "1966 – Launch of Gemini 8 with astronauts Neil Armstrong and David Scott. It would perform the first docking of two spacecraft in orbit.\n",
       "1968 – Vietnam War: My Lai Massacre occurs; between 347 and 500 Vietnamese villagers are killed by American troops.\n",
       "1969 – A Viasa McDonnell Douglas DC-9 crashes in Maracaibo, Venezuela, killing 155.\n",
       "1977 – Assassination of Kamal Jumblatt, the main leader of the anti-government forces in the Lebanese Civil War.\n",
       "1978 – Former Italian Prime Minister Aldo Moro is kidnapped; he is later murdered by his captors.\n",
       "1978   – A Balkan Bulgarian Airlines Tupolev Tu-134 crashes near Gabare, Bulgaria, killing 73.\n",
       "1978   – Supertanker Amoco Cadiz splits in two after running aground on the Portsall Rocks, three miles off the coast of Brittany, resulting in the largest oil spill in history at that time.\n",
       "1979 – Sino-Vietnamese War: The People's Liberation Army crosses the border back into China, ending the war.\n",
       "1984 – William Buckley, the CIA station chief in Lebanon, is kidnapped by Hezbollah; he later dies in captivity.\n",
       "1985 – Associated Press newsman Terry Anderson is taken hostage in Beirut; he not released until December 1991.\n",
       "1988 – Iran–Contra affair: Lieutenant Colonel Oliver North and Vice Admiral John Poindexter are indicted on charges of conspiracy to defraud the United States.\n",
       "1988   – Halabja chemical attack: The Kurdish town of Halabja in Iraq is attacked with a mix of poison gas and nerve agents on the orders of Saddam Hussein, killing 5,000 people and injuring about 10,000 people.\n",
       "1988   – The Troubles: Ulster loyalist militant Michael Stone attacks a Provisional IRA funeral in Belfast with pistols and grenades. Three persons, one of them a member of PIRA are killed, and more than 60 others are wounded.\n",
       "1995 – Mississippi formally ratifies the Thirteenth Amendment to the United States Constitution, becoming the last state to approve the abolition of slavery. The Thirteenth Amendment was officially ratified in 1865.\n",
       "2001 – A series of bomb blasts in the city of Shijiazhuang, China kill 108 people and injure 38 others, the biggest mass murder in China in decades.\n",
       "2003 – American activist Rachel Corrie is killed in Rafah by being run over by an Israel Defense Forces bulldozer while trying to obstruct the demolition of a home.\n",
       "2005 – Israel officially hands over Jericho to Palestinian control.\n",
       "2014 – Crimea votes in a controversial referendum to secede from Ukraine to join Russia.\n",
       "2016 – A bomb detonates in a bus carrying government employees in Peshawar, Pakistan, killing 15 and injuring at least 30.\n",
       "2016   – Two suicide bombers detonate their explosives at a mosque during morning prayer on the outskirts of Maiduguri, Nigeria, killing 24 and injuring 18.\n",
       "2020 – The Dow Jones Industrial Average falls by 2,997.10, the single largest point drop in history and the second-largest percentage drop ever at 12.93%, an even greater crash than Black Monday (1929). This follows the U.S. Federal Reserve announcing that it will cut its target interest rate to 0–0.25%.\n",
       "2021 – Atlanta spa shootings: Eight people are killed and one is injured in a trio of shootings at spas in and near Atlanta, Georgia, U.S. A suspect is arrested the same day.\n",
       "2022 – A  7.4-magnitude earthquake occurs off the coast of Fukushima, Japan, killing 4 people and injuring 225.\n",
       "Subsections (0):"
      ]
     },
     "execution_count": 42,
     "metadata": {},
     "output_type": "execute_result"
    }
   ],
   "source": [
    "page_py.sections[0]"
   ]
  },
  {
   "cell_type": "code",
   "execution_count": null,
   "id": "a82bf7ef",
   "metadata": {},
   "outputs": [],
   "source": []
  }
 ],
 "metadata": {
  "kernelspec": {
   "display_name": "Python 3 (ipykernel)",
   "language": "python",
   "name": "python3"
  },
  "language_info": {
   "codemirror_mode": {
    "name": "ipython",
    "version": 3
   },
   "file_extension": ".py",
   "mimetype": "text/x-python",
   "name": "python",
   "nbconvert_exporter": "python",
   "pygments_lexer": "ipython3",
   "version": "3.10.6"
  }
 },
 "nbformat": 4,
 "nbformat_minor": 5
}
